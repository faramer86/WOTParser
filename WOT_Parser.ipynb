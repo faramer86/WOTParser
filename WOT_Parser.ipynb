{
 "cells": [
  {
   "cell_type": "markdown",
   "metadata": {},
   "source": [
    "# Parser for the Wheel of Time Wiki"
   ]
  },
  {
   "cell_type": "code",
   "execution_count": 3,
   "metadata": {},
   "outputs": [],
   "source": [
    "import string\n",
    "import requests\n",
    "import pandas as pd\n",
    "from bs4 import BeautifulSoup"
   ]
  },
  {
   "cell_type": "markdown",
   "metadata": {},
   "source": [
    "### Plan:\n",
    "1. Iterate through sex category: Men, Women.\n",
    "2. For each category iterate through alphabetic table of content\n",
    "3. Take all the characters for corresponding latter\n",
    "4. Parse character page and took all the data from summary table\n",
    "5. Store it in dataframe"
   ]
  },
  {
   "cell_type": "markdown",
   "metadata": {},
   "source": [
    "### 1. Iterate through sex category: Men, Women."
   ]
  },
  {
   "cell_type": "markdown",
   "metadata": {},
   "source": [
    "First, we have our starting url:"
   ]
  },
  {
   "cell_type": "code",
   "execution_count": 4,
   "metadata": {},
   "outputs": [],
   "source": [
    "starting_url = 'https://wot.fandom.com/wiki/Category:People'"
   ]
  },
  {
   "cell_type": "markdown",
   "metadata": {},
   "source": [
    "We want to obtain urls for each gender:"
   ]
  },
  {
   "cell_type": "code",
   "execution_count": 5,
   "metadata": {},
   "outputs": [],
   "source": [
    "def give_sex(url, sex):\n",
    "    \"Return url for category (e.g. Sex)\"\n",
    "    return url[:-6] + sex"
   ]
  },
  {
   "cell_type": "markdown",
   "metadata": {},
   "source": [
    "`give_sex()` take starting URL and return new URL for desirable category. We will use it for Men/Women:"
   ]
  },
  {
   "cell_type": "code",
   "execution_count": 6,
   "metadata": {},
   "outputs": [],
   "source": [
    "w_url = give_sex(starting_url, 'Women') \n",
    "m_url = give_sex(starting_url, 'Men') "
   ]
  },
  {
   "cell_type": "code",
   "execution_count": 7,
   "metadata": {},
   "outputs": [
    {
     "data": {
      "text/plain": [
       "'https://wot.fandom.com/wiki/Category:Women'"
      ]
     },
     "execution_count": 7,
     "metadata": {},
     "output_type": "execute_result"
    },
    {
     "data": {
      "text/plain": [
       "'https://wot.fandom.com/wiki/Category:Men'"
      ]
     },
     "execution_count": 7,
     "metadata": {},
     "output_type": "execute_result"
    }
   ],
   "source": [
    "w_url\n",
    "m_url"
   ]
  },
  {
   "cell_type": "markdown",
   "metadata": {},
   "source": [
    "For explanatory reasons we will use only \"Men\" category."
   ]
  },
  {
   "cell_type": "markdown",
   "metadata": {},
   "source": [
    "### 2. For each category iterate through alphabetic table of content"
   ]
  },
  {
   "cell_type": "code",
   "execution_count": 8,
   "metadata": {},
   "outputs": [],
   "source": [
    "def get_alphabet():\n",
    "    \"\"\"\n",
    "    Return list of Uppercase\n",
    "    latters (ENG alphabet)\n",
    "    \"\"\"\n",
    "    return list(string.ascii_uppercase)"
   ]
  },
  {
   "cell_type": "markdown",
   "metadata": {},
   "source": [
    "we will use `get_alphabet()` for compiling URLs for each latter. It will worklike so:"
   ]
  },
  {
   "cell_type": "code",
   "execution_count": 9,
   "metadata": {},
   "outputs": [
    {
     "name": "stdout",
     "output_type": "stream",
     "text": [
      "https://wot.fandom.com/wiki/Category:Men?from=A\n",
      "https://wot.fandom.com/wiki/Category:Men?from=B\n",
      "https://wot.fandom.com/wiki/Category:Men?from=C\n",
      "https://wot.fandom.com/wiki/Category:Men?from=D\n",
      "https://wot.fandom.com/wiki/Category:Men?from=E\n",
      "https://wot.fandom.com/wiki/Category:Men?from=F\n",
      "https://wot.fandom.com/wiki/Category:Men?from=G\n",
      "https://wot.fandom.com/wiki/Category:Men?from=H\n",
      "https://wot.fandom.com/wiki/Category:Men?from=I\n",
      "https://wot.fandom.com/wiki/Category:Men?from=J\n",
      "https://wot.fandom.com/wiki/Category:Men?from=K\n",
      "https://wot.fandom.com/wiki/Category:Men?from=L\n",
      "https://wot.fandom.com/wiki/Category:Men?from=M\n",
      "https://wot.fandom.com/wiki/Category:Men?from=N\n",
      "https://wot.fandom.com/wiki/Category:Men?from=O\n",
      "https://wot.fandom.com/wiki/Category:Men?from=P\n",
      "https://wot.fandom.com/wiki/Category:Men?from=Q\n",
      "https://wot.fandom.com/wiki/Category:Men?from=R\n",
      "https://wot.fandom.com/wiki/Category:Men?from=S\n",
      "https://wot.fandom.com/wiki/Category:Men?from=T\n",
      "https://wot.fandom.com/wiki/Category:Men?from=U\n",
      "https://wot.fandom.com/wiki/Category:Men?from=V\n",
      "https://wot.fandom.com/wiki/Category:Men?from=W\n",
      "https://wot.fandom.com/wiki/Category:Men?from=X\n",
      "https://wot.fandom.com/wiki/Category:Men?from=Y\n",
      "https://wot.fandom.com/wiki/Category:Men?from=Z\n"
     ]
    }
   ],
   "source": [
    "for latter in get_alphabet():\n",
    "    lat_url = m_url + f'?from={latter}'\n",
    "    print(lat_url)"
   ]
  },
  {
   "cell_type": "markdown",
   "metadata": {},
   "source": [
    "### 3. Take all the characters for corresponding latter"
   ]
  },
  {
   "cell_type": "code",
   "execution_count": 10,
   "metadata": {},
   "outputs": [],
   "source": [
    "def get_html(url):\n",
    "    \"Return html file as text\"\n",
    "    r = requests.get(url)\n",
    "    return r.text"
   ]
  },
  {
   "cell_type": "markdown",
   "metadata": {},
   "source": [
    "`get_html()` function take URL for latter and return html text as an output. It is pretty intuitive. Next function `get_all_characters_urls()` is need to be explained. Lets take a look at it:"
   ]
  },
  {
   "cell_type": "code",
   "execution_count": 23,
   "metadata": {},
   "outputs": [],
   "source": [
    "def get_all_charcters_urls(lat_url):\n",
    "    \"\"\"\n",
    "    Return list of character\n",
    "    URLs for a latter\n",
    "    \"\"\"\n",
    "    html = get_html(lat_url)\n",
    "    base_url = lat_url.split('/wiki/')[0] # 'https://wot.fandom.com'\n",
    "    soup = BeautifulSoup(html, 'html.parser')\n",
    "    chars = soup.find('ul', class_=\"category-page__members-for-char\")\\\n",
    "                .find_all('a', class_=\"category-page__member-link\")\n",
    "    return [base_url + a.get('href') for a in chars]"
   ]
  },
  {
   "cell_type": "markdown",
   "metadata": {},
   "source": [
    "`get_all_charcters_urls()` do the following:\n",
    "1. Obtain html for one latter\n",
    "2. Generate base URL for subsequent use (generating URL for each character)\n",
    "3. Create BeauterfulSoup object (we will discuss it below)\n",
    "4. Parse it using specific list of actions (we will discuss it below)\n",
    "5. Return list of character URLs"
   ]
  },
  {
   "cell_type": "markdown",
   "metadata": {},
   "source": [
    "`BeautifulSoup` is the main working class. It initialize next level of abstraction on the html data that allows to use special functions that significantly simplify the whole process."
   ]
  },
  {
   "cell_type": "code",
   "execution_count": 12,
   "metadata": {},
   "outputs": [],
   "source": [
    "m_html = get_html('https://wot.fandom.com/wiki/Category:Men?from=A')\n",
    "soup = BeautifulSoup(m_html, 'html.parser')"
   ]
  },
  {
   "cell_type": "markdown",
   "metadata": {},
   "source": [
    "If you print soup object it will return html content."
   ]
  },
  {
   "cell_type": "markdown",
   "metadata": {},
   "source": [
    "But it is not just a plain text, it is `BeautefulSoup` class, thus it allows one to use some special functions. As an example:"
   ]
  },
  {
   "cell_type": "markdown",
   "metadata": {},
   "source": [
    "1. ) `find()` - this method return the first entrance of a particular tag which was passed to the function\n",
    "2. ) `find_all()` - this method return all entrances of a particular tag which was passed to the function"
   ]
  },
  {
   "cell_type": "markdown",
   "metadata": {},
   "source": [
    "In order to illusrate `find()` and `find_all()` functionality, lets look at real-world example:"
   ]
  },
  {
   "cell_type": "markdown",
   "metadata": {},
   "source": [
    "Go here https://wot.fandom.com/wiki/Category:Men?from=A. What do we want? We want to store URL for each latter. Move your coursor to `Abaldar Yulan` and make a right-click, choose \"Inspect element\". You will se similar picture:"
   ]
  },
  {
   "cell_type": "markdown",
   "metadata": {},
   "source": [
    "![toitle](new_inspection.png)"
   ]
  },
  {
   "cell_type": "markdown",
   "metadata": {},
   "source": [
    "First `<ul>` tag will give us first latter entrance at a page (only A). In order get rid of potential errors, we can specify some additional html tags, for example - `class`:"
   ]
  },
  {
   "cell_type": "code",
   "execution_count": 43,
   "metadata": {},
   "outputs": [],
   "source": [
    "soup.find('ul', class_=\"category-page__members-for-char\")"
   ]
  },
  {
   "cell_type": "markdown",
   "metadata": {},
   "source": [
    "Each `<a>` embadded in first `<ul>` will give us all character names for this latter and corresponding URLs.  "
   ]
  },
  {
   "cell_type": "code",
   "execution_count": 41,
   "metadata": {},
   "outputs": [
    {
     "data": {
      "text/plain": [
       "[<a class=\"category-page__member-link\" href=\"/wiki/Abaldar_Yulan\" title=\"Abaldar Yulan\">Abaldar Yulan</a>,\n",
       " <a class=\"category-page__member-link\" href=\"/wiki/Abar\" title=\"Abar\">Abar</a>,\n",
       " <a class=\"category-page__member-link\" href=\"/wiki/Abdel_Omerna\" title=\"Abdel Omerna\">Abdel Omerna</a>,\n",
       " <a class=\"category-page__member-link\" href=\"/wiki/Abell_Cauthon\" title=\"Abell Cauthon\">Abell Cauthon</a>,\n",
       " <a class=\"category-page__member-link\" href=\"/wiki/Abelle_Pendar\" title=\"Abelle Pendar\">Abelle Pendar</a>,\n",
       " <a class=\"category-page__member-link\" href=\"/wiki/Abors\" title=\"Abors\">Abors</a>,\n",
       " <a class=\"category-page__member-link\" href=\"/wiki/Ackley_Ferran\" title=\"Ackley Ferran\">Ackley Ferran</a>,\n",
       " <a class=\"category-page__member-link\" href=\"/wiki/Adamad\" title=\"Adamad\">Adamad</a>,\n",
       " <a class=\"category-page__member-link\" href=\"/wiki/Adan\" title=\"Adan\">Adan</a>,\n",
       " <a class=\"category-page__member-link\" href=\"/wiki/Adan_al%27Caar\" title=\"Adan al'Caar\">Adan al'Caar</a>]"
      ]
     },
     "execution_count": 41,
     "metadata": {},
     "output_type": "execute_result"
    }
   ],
   "source": [
    "chars = soup.find('ul', class_=\"category-page__members-for-char\")\\\n",
    "    .find_all('a', class_=\"category-page__member-link\")\n",
    "chars[:10]"
   ]
  },
  {
   "cell_type": "markdown",
   "metadata": {},
   "source": [
    "Next we want to iterate through `<a>`'s and take only URLs (`href`): "
   ]
  },
  {
   "cell_type": "code",
   "execution_count": 16,
   "metadata": {},
   "outputs": [
    {
     "data": {
      "text/plain": [
       "['https://wot.fandom.com/wiki/Abaldar_Yulan',\n",
       " 'https://wot.fandom.com/wiki/Abar',\n",
       " 'https://wot.fandom.com/wiki/Abdel_Omerna',\n",
       " 'https://wot.fandom.com/wiki/Abell_Cauthon',\n",
       " 'https://wot.fandom.com/wiki/Abelle_Pendar',\n",
       " 'https://wot.fandom.com/wiki/Abors',\n",
       " 'https://wot.fandom.com/wiki/Ackley_Ferran',\n",
       " 'https://wot.fandom.com/wiki/Adamad',\n",
       " 'https://wot.fandom.com/wiki/Adan',\n",
       " 'https://wot.fandom.com/wiki/Adan_al%27Caar']"
      ]
     },
     "execution_count": 16,
     "metadata": {},
     "output_type": "execute_result"
    }
   ],
   "source": [
    "base_url = 'https://wot.fandom.com'\n",
    "[base_url + a.get('href') for a in chars][:10]"
   ]
  },
  {
   "cell_type": "markdown",
   "metadata": {},
   "source": [
    "### Voilà!"
   ]
  },
  {
   "cell_type": "markdown",
   "metadata": {},
   "source": [
    "We have all the URLs for all characters that have A as a first latter of a name. All of this make `get_all_charcters_urls()` function."
   ]
  },
  {
   "cell_type": "markdown",
   "metadata": {},
   "source": [
    "### 4. Parse character page and took all the data from summary table"
   ]
  },
  {
   "cell_type": "markdown",
   "metadata": {},
   "source": [
    "I hope that you're following me. Now we are on a character page. It is time to collect the data."
   ]
  },
  {
   "cell_type": "markdown",
   "metadata": {},
   "source": [
    "These two functions are used for obtaining feature names and values from summary table. This task is exactly the same with the previous one, the only difference is that instead of URLs we collect features and values."
   ]
  },
  {
   "cell_type": "code",
   "execution_count": 17,
   "metadata": {},
   "outputs": [],
   "source": [
    "def give_values(name, soup):\n",
    "    \"\"\"\n",
    "    Return values from\n",
    "    character summary table\n",
    "    \"\"\"\n",
    "    div_class = \"pi-data-value pi-font\"\n",
    "    return [name] + [feature.text.replace('\\xa0', ':') for feature in\n",
    "                             soup.find_all('div', class_=div_class)]\n",
    "\n",
    "def give_features(soup):\n",
    "    \"\"\"\n",
    "    Return features from\n",
    "    character summary table\n",
    "    \"\"\"\n",
    "    h3_class = \"pi-data-label pi-secondary-font\"\n",
    "    return ['Name'] + [feature.text for feature in\n",
    "                 soup.find_all('h3', class_=h3_class)]"
   ]
  },
  {
   "cell_type": "markdown",
   "metadata": {},
   "source": [
    "`parse_char_page()` create new \"soup\" and parse html in such a manner:\n",
    "1. Obtain name from `<h2>` tags\n",
    "2. Use `give_values()` for feature values stored in `<div>` tags.\n",
    "3. Use `give_features()` for feature names stored in `<h3>` tags.\n",
    "4. Compile pandas dataframe and return it "
   ]
  },
  {
   "cell_type": "code",
   "execution_count": 18,
   "metadata": {},
   "outputs": [],
   "source": [
    "def parse_char_page(url):\n",
    "    \"\"\"\n",
    "    Parse one character\n",
    "    page and return pandas dataframe\n",
    "    \"\"\"\n",
    "    html = get_html(url)\n",
    "    soup = BeautifulSoup(html, 'html.parser')\n",
    "    try:\n",
    "        h2_class = \"pi-item pi-item-spacing pi-title\"\n",
    "        name = soup.find('h2', class_=h2_class).next\n",
    "    except:\n",
    "        name = url.split('/')[-1]\n",
    "        return pd.DataFrame({'Name':name},index=[0])\n",
    "    values = give_values(name, soup)\n",
    "    features = give_features(soup)\n",
    "    return pd.DataFrame({f'{key}':value for key, value in zip(features, values)}, index=[0])"
   ]
  },
  {
   "cell_type": "markdown",
   "metadata": {},
   "source": [
    "### Finally, combine all of the steps:"
   ]
  },
  {
   "cell_type": "markdown",
   "metadata": {},
   "source": [
    "`parser()` exactly the following:\n",
    "1. Initialize pandas dataframe - df\n",
    "2. Iterate through latters\n",
    "3. Create URL for each latter\n",
    "4. Obtain URLs for all characters for one latter\n",
    "5. Iterate through each character URL\n",
    "6. Parase obtained html, store features and add to df\n",
    "7. print Name of added character"
   ]
  },
  {
   "cell_type": "code",
   "execution_count": 21,
   "metadata": {},
   "outputs": [],
   "source": [
    "def parse_category(sex_url):\n",
    "    \"\"\"\n",
    "    Parse one category value and\n",
    "    return pandas dataframe\n",
    "    with all characters\n",
    "    \"\"\"\n",
    "    df = pd.DataFrame()\n",
    "    for latter in get_alphabet():\n",
    "        lat_url = sex_url + f'?from={latter}'\n",
    "        urls = get_all_charcters_urls(lat_url)\n",
    "        for url in urls:\n",
    "            df = df.append(parse_char_page(url), sort=False)\n",
    "            print(df.Name.values[-1])\n",
    "    return df"
   ]
  },
  {
   "cell_type": "markdown",
   "metadata": {},
   "source": [
    "### Launching"
   ]
  },
  {
   "cell_type": "code",
   "execution_count": 25,
   "metadata": {},
   "outputs": [],
   "source": [
    "url = 'https://wot.fandom.com/wiki/Category:People'\n",
    "categories = [give_sex(url, gender) for gender in ['Women', 'Men']]\n",
    "df = parse_category(categories[0])\\\n",
    "     .append(parse_category(categories[1]))\n",
    "df.to_csv('~/Desktop/WOT.tsv', sep='\\t',index=False)"
   ]
  },
  {
   "cell_type": "code",
   "execution_count": 40,
   "metadata": {},
   "outputs": [
    {
     "data": {
      "text/html": [
       "<div>\n",
       "<style scoped>\n",
       "    .dataframe tbody tr th:only-of-type {\n",
       "        vertical-align: middle;\n",
       "    }\n",
       "\n",
       "    .dataframe tbody tr th {\n",
       "        vertical-align: top;\n",
       "    }\n",
       "\n",
       "    .dataframe thead th {\n",
       "        text-align: right;\n",
       "    }\n",
       "</style>\n",
       "<table border=\"1\" class=\"dataframe\">\n",
       "  <thead>\n",
       "    <tr style=\"text-align: right;\">\n",
       "      <th></th>\n",
       "      <th>Name</th>\n",
       "      <th>Nationality</th>\n",
       "      <th>Occupation</th>\n",
       "      <th>Affiliation</th>\n",
       "      <th>Ajah</th>\n",
       "      <th>Build</th>\n",
       "      <th>Clan</th>\n",
       "      <th>Current.status</th>\n",
       "      <th>Date.of.birth</th>\n",
       "      <th>Date.of.death</th>\n",
       "      <th>...</th>\n",
       "      <th>Hair.color</th>\n",
       "      <th>Height</th>\n",
       "      <th>Last.appeared</th>\n",
       "      <th>Last.mentioned</th>\n",
       "      <th>Race</th>\n",
       "      <th>Rank</th>\n",
       "      <th>Sept</th>\n",
       "      <th>Society</th>\n",
       "      <th>Title</th>\n",
       "      <th>Weight</th>\n",
       "    </tr>\n",
       "  </thead>\n",
       "  <tbody>\n",
       "    <tr>\n",
       "      <td>0</td>\n",
       "      <td>Abaldar Yulan</td>\n",
       "      <td>Seanchan</td>\n",
       "      <td>NaN</td>\n",
       "      <td>NaN</td>\n",
       "      <td>NaN</td>\n",
       "      <td>NaN</td>\n",
       "      <td>NaN</td>\n",
       "      <td>Alive</td>\n",
       "      <td>NaN</td>\n",
       "      <td>NaN</td>\n",
       "      <td>...</td>\n",
       "      <td>Bald</td>\n",
       "      <td>Very small</td>\n",
       "      <td>AMOL:37</td>\n",
       "      <td>NaN</td>\n",
       "      <td>NaN</td>\n",
       "      <td>Lieutenant-General</td>\n",
       "      <td>NaN</td>\n",
       "      <td>NaN</td>\n",
       "      <td>NaN</td>\n",
       "      <td>NaN</td>\n",
       "    </tr>\n",
       "    <tr>\n",
       "      <td>1</td>\n",
       "      <td>Abar</td>\n",
       "      <td>Domani</td>\n",
       "      <td>Entertainer</td>\n",
       "      <td>Valan Luca</td>\n",
       "      <td>NaN</td>\n",
       "      <td>Lean</td>\n",
       "      <td>NaN</td>\n",
       "      <td>NaN</td>\n",
       "      <td>NaN</td>\n",
       "      <td>NaN</td>\n",
       "      <td>...</td>\n",
       "      <td>NaN</td>\n",
       "      <td>NaN</td>\n",
       "      <td>NaN</td>\n",
       "      <td>KOD:11</td>\n",
       "      <td>NaN</td>\n",
       "      <td>NaN</td>\n",
       "      <td>NaN</td>\n",
       "      <td>NaN</td>\n",
       "      <td>NaN</td>\n",
       "      <td>NaN</td>\n",
       "    </tr>\n",
       "    <tr>\n",
       "      <td>2</td>\n",
       "      <td>Abdel Omerna</td>\n",
       "      <td>Amadician</td>\n",
       "      <td>Soldier</td>\n",
       "      <td>Children of the Light</td>\n",
       "      <td>NaN</td>\n",
       "      <td>NaN</td>\n",
       "      <td>NaN</td>\n",
       "      <td>Dead</td>\n",
       "      <td>NaN</td>\n",
       "      <td>1000 NE</td>\n",
       "      <td>...</td>\n",
       "      <td>Long, White</td>\n",
       "      <td>Tall</td>\n",
       "      <td>NaN</td>\n",
       "      <td>NaN</td>\n",
       "      <td>NaN</td>\n",
       "      <td>Lord Captain</td>\n",
       "      <td>NaN</td>\n",
       "      <td>NaN</td>\n",
       "      <td>NaN</td>\n",
       "      <td>NaN</td>\n",
       "    </tr>\n",
       "    <tr>\n",
       "      <td>3</td>\n",
       "      <td>Abell Cauthon</td>\n",
       "      <td>NaN</td>\n",
       "      <td>Village Councilor</td>\n",
       "      <td>Two Rivers</td>\n",
       "      <td>NaN</td>\n",
       "      <td>NaN</td>\n",
       "      <td>NaN</td>\n",
       "      <td>Alive</td>\n",
       "      <td>955 NE[1]</td>\n",
       "      <td>NaN</td>\n",
       "      <td>...</td>\n",
       "      <td>NaN</td>\n",
       "      <td>NaN</td>\n",
       "      <td>AMOL:Epilogue</td>\n",
       "      <td>NaN</td>\n",
       "      <td>NaN</td>\n",
       "      <td>NaN</td>\n",
       "      <td>NaN</td>\n",
       "      <td>NaN</td>\n",
       "      <td>NaN</td>\n",
       "      <td>NaN</td>\n",
       "    </tr>\n",
       "    <tr>\n",
       "      <td>4</td>\n",
       "      <td>Abelle Pendar</td>\n",
       "      <td>Andoran</td>\n",
       "      <td>NaN</td>\n",
       "      <td>House Trakand</td>\n",
       "      <td>NaN</td>\n",
       "      <td>NaN</td>\n",
       "      <td>NaN</td>\n",
       "      <td>Alive</td>\n",
       "      <td>NaN</td>\n",
       "      <td>NaN</td>\n",
       "      <td>...</td>\n",
       "      <td>Gray</td>\n",
       "      <td>NaN</td>\n",
       "      <td>NaN</td>\n",
       "      <td>NaN</td>\n",
       "      <td>NaN</td>\n",
       "      <td>High Seat</td>\n",
       "      <td>NaN</td>\n",
       "      <td>NaN</td>\n",
       "      <td>Lord</td>\n",
       "      <td>NaN</td>\n",
       "    </tr>\n",
       "    <tr>\n",
       "      <td>5</td>\n",
       "      <td>Abors</td>\n",
       "      <td>Unknown nationality</td>\n",
       "      <td>Asha'man</td>\n",
       "      <td>The Shadow</td>\n",
       "      <td>NaN</td>\n",
       "      <td>NaN</td>\n",
       "      <td>NaN</td>\n",
       "      <td>Dead</td>\n",
       "      <td>NaN</td>\n",
       "      <td>1000 NE</td>\n",
       "      <td>...</td>\n",
       "      <td>NaN</td>\n",
       "      <td>NaN</td>\n",
       "      <td>AMOL:14</td>\n",
       "      <td>NaN</td>\n",
       "      <td>NaN</td>\n",
       "      <td>Asha'man</td>\n",
       "      <td>NaN</td>\n",
       "      <td>NaN</td>\n",
       "      <td>NaN</td>\n",
       "      <td>NaN</td>\n",
       "    </tr>\n",
       "    <tr>\n",
       "      <td>6</td>\n",
       "      <td>Ackley Ferran</td>\n",
       "      <td>Andoran</td>\n",
       "      <td>Farmer</td>\n",
       "      <td>NaN</td>\n",
       "      <td>NaN</td>\n",
       "      <td>NaN</td>\n",
       "      <td>NaN</td>\n",
       "      <td>Alive</td>\n",
       "      <td>NaN</td>\n",
       "      <td>NaN</td>\n",
       "      <td>...</td>\n",
       "      <td>NaN</td>\n",
       "      <td>NaN</td>\n",
       "      <td>NaN</td>\n",
       "      <td>TEOTW:33</td>\n",
       "      <td>NaN</td>\n",
       "      <td>NaN</td>\n",
       "      <td>NaN</td>\n",
       "      <td>NaN</td>\n",
       "      <td>NaN</td>\n",
       "      <td>NaN</td>\n",
       "    </tr>\n",
       "    <tr>\n",
       "      <td>7</td>\n",
       "      <td>Adamad</td>\n",
       "      <td>Borderlander</td>\n",
       "      <td>Farmer</td>\n",
       "      <td>NaN</td>\n",
       "      <td>NaN</td>\n",
       "      <td>NaN</td>\n",
       "      <td>NaN</td>\n",
       "      <td>Alive</td>\n",
       "      <td>NaN</td>\n",
       "      <td>NaN</td>\n",
       "      <td>...</td>\n",
       "      <td>NaN</td>\n",
       "      <td>NaN</td>\n",
       "      <td>TGS:Prologue</td>\n",
       "      <td>NaN</td>\n",
       "      <td>NaN</td>\n",
       "      <td>NaN</td>\n",
       "      <td>NaN</td>\n",
       "      <td>NaN</td>\n",
       "      <td>NaN</td>\n",
       "      <td>NaN</td>\n",
       "    </tr>\n",
       "    <tr>\n",
       "      <td>8</td>\n",
       "      <td>Adan</td>\n",
       "      <td>Aiel</td>\n",
       "      <td>NaN</td>\n",
       "      <td>NaN</td>\n",
       "      <td>NaN</td>\n",
       "      <td>NaN</td>\n",
       "      <td>Da'shain Aiel</td>\n",
       "      <td>Dead</td>\n",
       "      <td>NaN</td>\n",
       "      <td>NaN</td>\n",
       "      <td>...</td>\n",
       "      <td>NaN</td>\n",
       "      <td>NaN</td>\n",
       "      <td>TSR:26</td>\n",
       "      <td>NaN</td>\n",
       "      <td>NaN</td>\n",
       "      <td>NaN</td>\n",
       "      <td>NaN</td>\n",
       "      <td>NaN</td>\n",
       "      <td>NaN</td>\n",
       "      <td>NaN</td>\n",
       "    </tr>\n",
       "    <tr>\n",
       "      <td>9</td>\n",
       "      <td>Adan al'Caar</td>\n",
       "      <td>Andoran</td>\n",
       "      <td>NaN</td>\n",
       "      <td>Two Rivers</td>\n",
       "      <td>NaN</td>\n",
       "      <td>NaN</td>\n",
       "      <td>NaN</td>\n",
       "      <td>Alive</td>\n",
       "      <td>NaN</td>\n",
       "      <td>NaN</td>\n",
       "      <td>...</td>\n",
       "      <td>NaN</td>\n",
       "      <td>NaN</td>\n",
       "      <td>NaN</td>\n",
       "      <td>TEOTW:2</td>\n",
       "      <td>NaN</td>\n",
       "      <td>NaN</td>\n",
       "      <td>NaN</td>\n",
       "      <td>NaN</td>\n",
       "      <td>NaN</td>\n",
       "      <td>NaN</td>\n",
       "    </tr>\n",
       "  </tbody>\n",
       "</table>\n",
       "<p>10 rows × 24 columns</p>\n",
       "</div>"
      ],
      "text/plain": [
       "            Name          Nationality         Occupation  \\\n",
       "0  Abaldar Yulan             Seanchan                NaN   \n",
       "1           Abar               Domani        Entertainer   \n",
       "2   Abdel Omerna            Amadician            Soldier   \n",
       "3  Abell Cauthon                  NaN  Village Councilor   \n",
       "4  Abelle Pendar              Andoran                NaN   \n",
       "5          Abors  Unknown nationality          Asha'man    \n",
       "6  Ackley Ferran              Andoran             Farmer   \n",
       "7         Adamad         Borderlander             Farmer   \n",
       "8           Adan                 Aiel                NaN   \n",
       "9   Adan al'Caar              Andoran                NaN   \n",
       "\n",
       "             Affiliation Ajah Build           Clan Current.status  \\\n",
       "0                    NaN  NaN   NaN            NaN         Alive    \n",
       "1            Valan Luca   NaN  Lean            NaN            NaN   \n",
       "2  Children of the Light  NaN   NaN            NaN           Dead   \n",
       "3             Two Rivers  NaN   NaN            NaN         Alive    \n",
       "4         House Trakand   NaN   NaN            NaN         Alive    \n",
       "5             The Shadow  NaN   NaN            NaN           Dead   \n",
       "6                    NaN  NaN   NaN            NaN         Alive    \n",
       "7                    NaN  NaN   NaN            NaN         Alive    \n",
       "8                    NaN  NaN   NaN  Da'shain Aiel           Dead   \n",
       "9             Two Rivers  NaN   NaN            NaN         Alive    \n",
       "\n",
       "  Date.of.birth Date.of.death  ...   Hair.color      Height  Last.appeared  \\\n",
       "0           NaN           NaN  ...         Bald  Very small        AMOL:37   \n",
       "1           NaN           NaN  ...          NaN         NaN            NaN   \n",
       "2           NaN       1000 NE  ...  Long, White        Tall            NaN   \n",
       "3     955 NE[1]           NaN  ...          NaN         NaN  AMOL:Epilogue   \n",
       "4           NaN           NaN  ...         Gray         NaN            NaN   \n",
       "5           NaN       1000 NE  ...          NaN         NaN        AMOL:14   \n",
       "6           NaN           NaN  ...          NaN         NaN            NaN   \n",
       "7           NaN           NaN  ...          NaN         NaN   TGS:Prologue   \n",
       "8           NaN           NaN  ...          NaN         NaN         TSR:26   \n",
       "9           NaN           NaN  ...          NaN         NaN            NaN   \n",
       "\n",
       "  Last.mentioned Race                Rank Sept Society Title Weight  \n",
       "0            NaN  NaN  Lieutenant-General  NaN     NaN   NaN    NaN  \n",
       "1         KOD:11  NaN                 NaN  NaN     NaN   NaN    NaN  \n",
       "2            NaN  NaN       Lord Captain   NaN     NaN   NaN    NaN  \n",
       "3            NaN  NaN                 NaN  NaN     NaN   NaN    NaN  \n",
       "4            NaN  NaN           High Seat  NaN     NaN  Lord    NaN  \n",
       "5            NaN  NaN            Asha'man  NaN     NaN   NaN    NaN  \n",
       "6       TEOTW:33  NaN                 NaN  NaN     NaN   NaN    NaN  \n",
       "7            NaN  NaN                 NaN  NaN     NaN   NaN    NaN  \n",
       "8            NaN  NaN                 NaN  NaN     NaN   NaN    NaN  \n",
       "9        TEOTW:2  NaN                 NaN  NaN     NaN   NaN    NaN  \n",
       "\n",
       "[10 rows x 24 columns]"
      ]
     },
     "execution_count": 40,
     "metadata": {},
     "output_type": "execute_result"
    }
   ],
   "source": [
    "df.head(10)"
   ]
  }
 ],
 "metadata": {
  "kernelspec": {
   "display_name": "Python 3",
   "language": "python",
   "name": "python3"
  },
  "language_info": {
   "codemirror_mode": {
    "name": "ipython",
    "version": 3
   },
   "file_extension": ".py",
   "mimetype": "text/x-python",
   "name": "python",
   "nbconvert_exporter": "python",
   "pygments_lexer": "ipython3",
   "version": "3.6.10"
  }
 },
 "nbformat": 4,
 "nbformat_minor": 2
}
